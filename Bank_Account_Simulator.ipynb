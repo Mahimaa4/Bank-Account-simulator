{
 "cells": [
  {
   "cell_type": "code",
   "execution_count": 14,
   "id": "942f8da0-af66-4d15-9a23-d120373c98cb",
   "metadata": {},
   "outputs": [],
   "source": [
    "import os\n",
    "\n",
    "class BankAccount:\n",
    "    def __init__(self, username):\n",
    "        self.username = username\n",
    "        self.balance = 0\n",
    "        self.history_file = f\"{self.username}_history.txt\"\n",
    "        self.load_balance()\n",
    "\n",
    "    def load_balance(self):\n",
    "        if os.path.exists(self.history_file):\n",
    "            with open(self.history_file, 'r') as file:\n",
    "                lines = file.readlines()\n",
    "                if lines:\n",
    "                    last_line = lines[-1]\n",
    "                    if \"Balance:\" in last_line:\n",
    "                        self.balance = float(last_line.split(\"Balance:\")[1].strip())\n",
    "\n",
    "    def save_transaction(self, action, amount):\n",
    "        with open(self.history_file, 'a') as file:\n",
    "            file.write(f\"{action} of ₹{amount} | Balance: {self.balance}\\n\")\n",
    "\n",
    "    def deposit(self, amount):\n",
    "        self.balance += amount\n",
    "        self.save_transaction(\"Deposit\", amount)\n",
    "        print(f\"₹{amount} deposited. New balance: ₹{self.balance}\")\n",
    "\n",
    "    def withdraw(self, amount):\n",
    "        if amount <= self.balance:\n",
    "            self.balance -= amount\n",
    "            self.save_transaction(\"Withdrawal\", amount)\n",
    "            print(f\"₹{amount} withdrawn. New balance: ₹{self.balance}\")\n",
    "        else:\n",
    "            print(\"Insufficient balance.\")\n",
    "\n",
    "    def check_balance(self):\n",
    "        print(f\"Current balance: ₹{self.balance}\")\n",
    "\n",
    "    def show_history(self):\n",
    "        if os.path.exists(self.history_file):\n",
    "            with open(self.history_file, 'r') as file:\n",
    "                print(\"\\nTransaction History:\")\n",
    "                print(file.read())\n",
    "        else:\n",
    "            print(\"No transaction history found.\")\n"
   ]
  },
  {
   "cell_type": "code",
   "execution_count": null,
   "id": "e438a54a-bbfa-4a6b-8129-6b8f4a81dfa8",
   "metadata": {},
   "outputs": [
    {
     "name": "stdout",
     "output_type": "stream",
     "text": [
      "Welcome to Bank Account Simulator!\n"
     ]
    },
    {
     "name": "stdin",
     "output_type": "stream",
     "text": [
      "Enter your name:  Mahima\n"
     ]
    },
    {
     "name": "stdout",
     "output_type": "stream",
     "text": [
      "\n",
      "Select an option:\n",
      "1. Deposit\n",
      "2. Withdraw\n",
      "3. Check Balance\n",
      "4. Transaction History\n",
      "5. Exit\n"
     ]
    },
    {
     "name": "stdin",
     "output_type": "stream",
     "text": [
      "Enter your choice (1-5):  1\n",
      "Enter amount to deposit: ₹ 5000\n"
     ]
    },
    {
     "name": "stdout",
     "output_type": "stream",
     "text": [
      "₹5000.0 deposited. New balance: ₹9000.0\n",
      "\n",
      "Select an option:\n",
      "1. Deposit\n",
      "2. Withdraw\n",
      "3. Check Balance\n",
      "4. Transaction History\n",
      "5. Exit\n"
     ]
    },
    {
     "name": "stdin",
     "output_type": "stream",
     "text": [
      "Enter your choice (1-5):  2\n",
      "Enter amount to withdraw: ₹ 2000\n"
     ]
    },
    {
     "name": "stdout",
     "output_type": "stream",
     "text": [
      "₹2000.0 withdrawn. New balance: ₹7000.0\n",
      "\n",
      "Select an option:\n",
      "1. Deposit\n",
      "2. Withdraw\n",
      "3. Check Balance\n",
      "4. Transaction History\n",
      "5. Exit\n"
     ]
    },
    {
     "name": "stdin",
     "output_type": "stream",
     "text": [
      "Enter your choice (1-5):  4\n"
     ]
    },
    {
     "name": "stdout",
     "output_type": "stream",
     "text": [
      "\n",
      "Transaction History:\n",
      "Deposit of ₹5000.0 | Balance: 5000.0\n",
      "Withdrawal of ₹1000.0 | Balance: 4000.0\n",
      "Deposit of ₹5000.0 | Balance: 9000.0\n",
      "Withdrawal of ₹2000.0 | Balance: 7000.0\n",
      "\n",
      "\n",
      "Select an option:\n",
      "1. Deposit\n",
      "2. Withdraw\n",
      "3. Check Balance\n",
      "4. Transaction History\n",
      "5. Exit\n"
     ]
    }
   ],
   "source": [
    "print(\"Welcome to Bank Account Simulator!\")\n",
    "username = input(\"Enter your name: \")\n",
    "account = BankAccount(username)\n",
    "\n",
    "while True:\n",
    "    print(\"\\nSelect an option:\")\n",
    "    print(\"1. Deposit\")\n",
    "    print(\"2. Withdraw\")\n",
    "    print(\"3. Check Balance\")\n",
    "    print(\"4. Transaction History\")\n",
    "    print(\"5. Exit\")\n",
    "\n",
    "    choice = input(\"Enter your choice (1-5): \")\n",
    "\n",
    "    if choice == '1':\n",
    "        amount = float(input(\"Enter amount to deposit: ₹\"))\n",
    "        account.deposit(amount)\n",
    "    elif choice == '2':\n",
    "        amount = float(input(\"Enter amount to withdraw: ₹\"))\n",
    "        account.withdraw(amount)\n",
    "    elif choice == '3':\n",
    "        account.check_balance()\n",
    "    elif choice == '4':\n",
    "        account.show_history()\n",
    "    elif choice == '5':\n",
    "        print(\"Thank you for using Bank Account Simulator!\")\n",
    "        break\n",
    "    else:\n",
    "        print(\"Invalid option. Please try again.\")\n"
   ]
  },
  {
   "cell_type": "code",
   "execution_count": null,
   "id": "d755106c-2ec0-4f5a-86e2-31a31f0af157",
   "metadata": {},
   "outputs": [],
   "source": [
    "\n"
   ]
  }
 ],
 "metadata": {
  "kernelspec": {
   "display_name": "Python [conda env:base] *",
   "language": "python",
   "name": "conda-base-py"
  },
  "language_info": {
   "codemirror_mode": {
    "name": "ipython",
    "version": 3
   },
   "file_extension": ".py",
   "mimetype": "text/x-python",
   "name": "python",
   "nbconvert_exporter": "python",
   "pygments_lexer": "ipython3",
   "version": "3.12.7"
  }
 },
 "nbformat": 4,
 "nbformat_minor": 5
}
